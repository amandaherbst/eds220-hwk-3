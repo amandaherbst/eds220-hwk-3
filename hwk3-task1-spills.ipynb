{
 "cells": [
  {
   "cell_type": "markdown",
   "metadata": {},
   "source": [
    "# Task 1  \n",
    "\n",
    "## General instructions\n",
    "\n",
    "First, update the following text to have a link to your Homework 2 GitHub repository:\n",
    "\n",
    "**UPDATE THIS LINK**\n",
    "https://github.com/amandaherbst/eds220-hwk-3\n",
    "\n",
    "Add comments for all your code and commit as needed. Err on the side of commenting and commiting too much for now. Points will be deducted for insufficient comments.\n",
    "\n",
    "\n",
    "## About the data\n",
    "In this task you will use two datsets:\n",
    "\n",
    "**First dataset**\n",
    "\n",
    "The first dataset contains information about [spilling incidents in the state of New York](https://data.ny.gov/Energy-Environment/Spill-Incidents/u44d-k5fk). \n",
    "The data portal has plenty of information. \n",
    "You will find extra information and metadata for this datset in the 'NYSDEC_SpillIncidents_Overview.pdf' and 'NYSDEC_SpillIncidents_DataDictionary.pdf' documents available at the portal.\n",
    "\n",
    "You can access this datset via its URL or download it as a csv. \n",
    "If you chose to access it via URL, it will take a while to load every time you import it. \n",
    "\n",
    "**Second dataset**\n",
    "\n",
    "The second dataset is a [TIGER shapefile from the United States Census Bureau](https://www.census.gov/geographies/mapping-files/time-series/geo/tiger-line-file.2022.html#list-tab-790442341). \n",
    "For this task you will need to **download the 2022 counties (and equivalent) TIGER shapefile**. \n",
    "You can check the [metadata for all the TIGER shapefiles here](https://www.census.gov/programs-surveys/geography/technical-documentation/complete-technical-documentation/tiger-geo-line.html). \n",
    "\n",
    "\n",
    "\n",
    "## File management\n",
    "Make sure all your data files are inside a directory named 'data' inside your repository's directory (working directory)."
   ]
  },
  {
   "cell_type": "markdown",
   "metadata": {},
   "source": [
    "## Datasets description\n",
    "Read the metadata for both datsets and write a brief description about each once. Indicate the date sources and date of access.\n"
   ]
  },
  {
   "cell_type": "markdown",
   "metadata": {},
   "source": [
    "**First Dataset**: spill incidents of petroleum and other hazardous materials in the state of New York. Accessed 11/6/2023 [here](https://data.ny.gov/Energy-Environment/Spill-Incidents/u44d-k5fk/explore)\n",
    "\n",
    "**Second Dataset**: TIGER shapefile of US counties from US Census Bureau. Accessed 11/06/2023 [here](https://www.census.gov/geographies/mapping-files/time-series/geo/tiger-line-file.2022.html#list-tab-790442341)"
   ]
  },
  {
   "cell_type": "markdown",
   "metadata": {},
   "source": [
    "## FINAL CODE\n",
    "\n",
    "You will use the next cell at the end of the task. Leave it blank for now. "
   ]
  },
  {
   "cell_type": "code",
   "execution_count": null,
   "metadata": {},
   "outputs": [],
   "source": [
    "### ===== FINAL CODE ====="
   ]
  },
  {
   "cell_type": "markdown",
   "metadata": {},
   "source": [
    "<!-- write your description in this markdwon cell -->"
   ]
  },
  {
   "cell_type": "markdown",
   "metadata": {},
   "source": [
    "## Import libraries"
   ]
  },
  {
   "cell_type": "code",
   "execution_count": 5,
   "metadata": {
    "tags": []
   },
   "outputs": [],
   "source": [
    "# import libraries\n",
    "import pandas as pd\n",
    "import geopandas as gpd\n",
    "import numpy as np\n",
    "\n",
    "import xarray as xr"
   ]
  },
  {
   "cell_type": "markdown",
   "metadata": {},
   "source": [
    "## Import data \n",
    "In the next cell:\n",
    "\n",
    "- Import the NY spills data as a variable named `spills`. \n",
    "- Import the US counties shapefile as a variable named `counties`.\n"
   ]
  },
  {
   "cell_type": "code",
   "execution_count": 7,
   "metadata": {
    "tags": []
   },
   "outputs": [],
   "source": [
    "# your code here\n",
    "spills = pd.read_csv('data/Spill_Incidents_20231106.csv')\n",
    "\n",
    "counties = gpd.read_file('data/tl_2022_us_county/tl_2022_us_county.shp')"
   ]
  },
  {
   "cell_type": "markdown",
   "metadata": {},
   "source": [
    "## Prepare spills data\n",
    "\n",
    "This section refers to the `spills` dataframe. \n",
    "Check the outputs carefully, they will give you context about the next exercises.\n",
    "\n",
    "### Exploration\n",
    "\n",
    "In the next cells:\n",
    "\n",
    "1. Check the dataframe's head\n",
    "2. Simplify column names as needed\n",
    "3. Check the data types of the columns\n",
    "4. Check the unique values in the `material_family` column\n",
    "5. Check the unique values in the `county` column\n",
    "\n",
    "You can add any other cells of preliminary data exploration."
   ]
  },
  {
   "cell_type": "code",
   "execution_count": 8,
   "metadata": {
    "tags": []
   },
   "outputs": [
    {
     "data": {
      "text/html": [
       "<div>\n",
       "<style scoped>\n",
       "    .dataframe tbody tr th:only-of-type {\n",
       "        vertical-align: middle;\n",
       "    }\n",
       "\n",
       "    .dataframe tbody tr th {\n",
       "        vertical-align: top;\n",
       "    }\n",
       "\n",
       "    .dataframe thead th {\n",
       "        text-align: right;\n",
       "    }\n",
       "</style>\n",
       "<table border=\"1\" class=\"dataframe\">\n",
       "  <thead>\n",
       "    <tr style=\"text-align: right;\">\n",
       "      <th></th>\n",
       "      <th>Spill Number</th>\n",
       "      <th>Program Facility Name</th>\n",
       "      <th>Street 1</th>\n",
       "      <th>Street 2</th>\n",
       "      <th>Locality</th>\n",
       "      <th>County</th>\n",
       "      <th>ZIP Code</th>\n",
       "      <th>SWIS Code</th>\n",
       "      <th>DEC Region</th>\n",
       "      <th>Spill Date</th>\n",
       "      <th>Received Date</th>\n",
       "      <th>Contributing Factor</th>\n",
       "      <th>Waterbody</th>\n",
       "      <th>Source</th>\n",
       "      <th>Close Date</th>\n",
       "      <th>Material Name</th>\n",
       "      <th>Material Family</th>\n",
       "      <th>Quantity</th>\n",
       "      <th>Units</th>\n",
       "      <th>Recovered</th>\n",
       "    </tr>\n",
       "  </thead>\n",
       "  <tbody>\n",
       "    <tr>\n",
       "      <th>0</th>\n",
       "      <td>107132</td>\n",
       "      <td>MH 864</td>\n",
       "      <td>RT 119/MILLWOOD RD</td>\n",
       "      <td>NaN</td>\n",
       "      <td>ELMSFORD</td>\n",
       "      <td>Westchester</td>\n",
       "      <td>NaN</td>\n",
       "      <td>6000</td>\n",
       "      <td>3</td>\n",
       "      <td>10/10/2001</td>\n",
       "      <td>10/10/2001</td>\n",
       "      <td>Unknown</td>\n",
       "      <td>NaN</td>\n",
       "      <td>Unknown</td>\n",
       "      <td>10/15/2001</td>\n",
       "      <td>unknown material</td>\n",
       "      <td>Other</td>\n",
       "      <td>10.0</td>\n",
       "      <td>Gallons</td>\n",
       "      <td>0.0</td>\n",
       "    </tr>\n",
       "    <tr>\n",
       "      <th>1</th>\n",
       "      <td>405586</td>\n",
       "      <td>BOWRY BAY</td>\n",
       "      <td>WATER POLL CONTROL</td>\n",
       "      <td>NaN</td>\n",
       "      <td>QUEENS</td>\n",
       "      <td>Queens</td>\n",
       "      <td>NaN</td>\n",
       "      <td>4101</td>\n",
       "      <td>2</td>\n",
       "      <td>08/21/2004</td>\n",
       "      <td>08/21/2004</td>\n",
       "      <td>Other</td>\n",
       "      <td>EAST RIVER</td>\n",
       "      <td>Unknown</td>\n",
       "      <td>09/17/2004</td>\n",
       "      <td>raw sewage</td>\n",
       "      <td>Other</td>\n",
       "      <td>0.0</td>\n",
       "      <td>Pounds</td>\n",
       "      <td>0.0</td>\n",
       "    </tr>\n",
       "    <tr>\n",
       "      <th>2</th>\n",
       "      <td>405586</td>\n",
       "      <td>BOWRY BAY</td>\n",
       "      <td>WATER POLL CONTROL</td>\n",
       "      <td>NaN</td>\n",
       "      <td>QUEENS</td>\n",
       "      <td>Queens</td>\n",
       "      <td>NaN</td>\n",
       "      <td>4101</td>\n",
       "      <td>2</td>\n",
       "      <td>08/21/2004</td>\n",
       "      <td>08/21/2004</td>\n",
       "      <td>Other</td>\n",
       "      <td>EAST RIVER</td>\n",
       "      <td>Unknown</td>\n",
       "      <td>09/17/2004</td>\n",
       "      <td>raw sewage</td>\n",
       "      <td>Other</td>\n",
       "      <td>0.0</td>\n",
       "      <td>NaN</td>\n",
       "      <td>0.0</td>\n",
       "    </tr>\n",
       "    <tr>\n",
       "      <th>3</th>\n",
       "      <td>204667</td>\n",
       "      <td>POLE 16091</td>\n",
       "      <td>GRACE AVE/BURKE AVE</td>\n",
       "      <td>NaN</td>\n",
       "      <td>BRONX</td>\n",
       "      <td>Bronx</td>\n",
       "      <td>NaN</td>\n",
       "      <td>301</td>\n",
       "      <td>2</td>\n",
       "      <td>08/02/2002</td>\n",
       "      <td>08/02/2002</td>\n",
       "      <td>Equipment Failure</td>\n",
       "      <td>NaN</td>\n",
       "      <td>Commercial/Industrial</td>\n",
       "      <td>10/28/2002</td>\n",
       "      <td>transformer oil</td>\n",
       "      <td>Petroleum</td>\n",
       "      <td>1.0</td>\n",
       "      <td>Gallons</td>\n",
       "      <td>0.0</td>\n",
       "    </tr>\n",
       "    <tr>\n",
       "      <th>4</th>\n",
       "      <td>210559</td>\n",
       "      <td>POLE ON</td>\n",
       "      <td>FERDALE LOMIS RD / RT 52</td>\n",
       "      <td>NaN</td>\n",
       "      <td>LIBERTY</td>\n",
       "      <td>Sullivan</td>\n",
       "      <td>NaN</td>\n",
       "      <td>5336</td>\n",
       "      <td>3</td>\n",
       "      <td>01/20/2003</td>\n",
       "      <td>01/20/2003</td>\n",
       "      <td>Traffic Accident</td>\n",
       "      <td>NaN</td>\n",
       "      <td>Commercial/Industrial</td>\n",
       "      <td>01/22/2003</td>\n",
       "      <td>transformer oil</td>\n",
       "      <td>Petroleum</td>\n",
       "      <td>6.0</td>\n",
       "      <td>Gallons</td>\n",
       "      <td>6.0</td>\n",
       "    </tr>\n",
       "  </tbody>\n",
       "</table>\n",
       "</div>"
      ],
      "text/plain": [
       "   Spill Number Program Facility Name                  Street 1 Street 2  \\\n",
       "0        107132                MH 864        RT 119/MILLWOOD RD      NaN   \n",
       "1        405586             BOWRY BAY        WATER POLL CONTROL      NaN   \n",
       "2        405586             BOWRY BAY        WATER POLL CONTROL      NaN   \n",
       "3        204667            POLE 16091       GRACE AVE/BURKE AVE      NaN   \n",
       "4        210559               POLE ON  FERDALE LOMIS RD / RT 52      NaN   \n",
       "\n",
       "   Locality       County ZIP Code  SWIS Code  DEC Region  Spill Date  \\\n",
       "0  ELMSFORD  Westchester      NaN       6000           3  10/10/2001   \n",
       "1    QUEENS       Queens      NaN       4101           2  08/21/2004   \n",
       "2    QUEENS       Queens      NaN       4101           2  08/21/2004   \n",
       "3     BRONX        Bronx      NaN        301           2  08/02/2002   \n",
       "4   LIBERTY     Sullivan      NaN       5336           3  01/20/2003   \n",
       "\n",
       "  Received Date Contributing Factor   Waterbody                 Source  \\\n",
       "0    10/10/2001             Unknown         NaN                Unknown   \n",
       "1    08/21/2004               Other  EAST RIVER                Unknown   \n",
       "2    08/21/2004               Other  EAST RIVER                Unknown   \n",
       "3    08/02/2002   Equipment Failure         NaN  Commercial/Industrial   \n",
       "4    01/20/2003    Traffic Accident         NaN  Commercial/Industrial   \n",
       "\n",
       "   Close Date     Material Name Material Family  Quantity    Units  Recovered  \n",
       "0  10/15/2001  unknown material           Other      10.0  Gallons        0.0  \n",
       "1  09/17/2004        raw sewage           Other       0.0   Pounds        0.0  \n",
       "2  09/17/2004        raw sewage           Other       0.0      NaN        0.0  \n",
       "3  10/28/2002   transformer oil       Petroleum       1.0  Gallons        0.0  \n",
       "4  01/22/2003   transformer oil       Petroleum       6.0  Gallons        6.0  "
      ]
     },
     "execution_count": 8,
     "metadata": {},
     "output_type": "execute_result"
    }
   ],
   "source": [
    "# 1. check head\n",
    "spills.head()"
   ]
  },
  {
   "cell_type": "code",
   "execution_count": 10,
   "metadata": {
    "tags": []
   },
   "outputs": [],
   "source": [
    "# 2. simplify column names\n",
    "spills.columns = spills.columns.str.lower().str.replace(' ','_')"
   ]
  },
  {
   "cell_type": "code",
   "execution_count": 11,
   "metadata": {
    "tags": []
   },
   "outputs": [
    {
     "data": {
      "text/plain": [
       "spill_number               int64\n",
       "program_facility_name     object\n",
       "street_1                  object\n",
       "street_2                  object\n",
       "locality                  object\n",
       "county                    object\n",
       "zip_code                  object\n",
       "swis_code                  int64\n",
       "dec_region                 int64\n",
       "spill_date                object\n",
       "received_date             object\n",
       "contributing_factor       object\n",
       "waterbody                 object\n",
       "source                    object\n",
       "close_date                object\n",
       "material_name             object\n",
       "material_family           object\n",
       "quantity                 float64\n",
       "units                     object\n",
       "recovered                float64\n",
       "dtype: object"
      ]
     },
     "execution_count": 11,
     "metadata": {},
     "output_type": "execute_result"
    }
   ],
   "source": [
    "# 3. check data types of columns\n",
    "spills.dtypes"
   ]
  },
  {
   "cell_type": "code",
   "execution_count": 12,
   "metadata": {
    "tags": []
   },
   "outputs": [
    {
     "data": {
      "text/plain": [
       "array(['Other', 'Petroleum', 'Hazardous Material', 'Oxygenates'],\n",
       "      dtype=object)"
      ]
     },
     "execution_count": 12,
     "metadata": {},
     "output_type": "execute_result"
    }
   ],
   "source": [
    "# 4. Check the unique values in the material_family column\n",
    "spills.material_family.unique()"
   ]
  },
  {
   "cell_type": "code",
   "execution_count": 13,
   "metadata": {
    "tags": []
   },
   "outputs": [
    {
     "data": {
      "text/plain": [
       "array(['Westchester', 'Queens', 'Bronx', 'Sullivan', 'Cortland',\n",
       "       'New York', 'Ulster', 'Kings', 'Orange', 'Dutchess', 'Onondaga',\n",
       "       'Saratoga', 'Cayuga', 'Oswego', 'Warren', 'Niagara', 'Rockland',\n",
       "       'Nassau', 'Jefferson', 'Schenectady', 'Albany', 'Monroe',\n",
       "       'St Lawrence', 'Richmond', 'Clinton', 'Lewis', 'Essex', 'Chenango',\n",
       "       'Erie', 'Livingston', 'Wayne', 'Suffolk', 'Orleans', 'Ontario',\n",
       "       'Genesee', 'Otsego', 'Tompkins', 'Madison', 'Chemung', 'Seneca',\n",
       "       'Oneida', 'Broome', 'Hamilton', 'Washington', 'Schuyler',\n",
       "       'Franklin', 'Columbia', 'Fulton', 'Herkimer', 'Schoharie',\n",
       "       'Rensselaer', 'Montgomery', 'Putnam', 'Delaware',\n",
       "       'New Jersey - Region 2', 'Steuben', 'Tioga', 'Chautauqua',\n",
       "       'Cattaraugus', 'Wyoming', 'Yates', 'Greene',\n",
       "       'Pennsylvania - Region 9', 'Allegany', 'New Jersey - Region 3 (N)',\n",
       "       'Cattaraugus Indian Reservation', 'New Jersey - Region 3 (T)',\n",
       "       'Canada - Region 6', 'Canada - Region 9',\n",
       "       'Pennsylvania - Region 8', 'Vermont - Region 5 (R)',\n",
       "       'Vermont - Region 4', 'Connecticut - Region 3 (N)',\n",
       "       'Pennsylvania - Region 3', 'Tuscarora Indian Reservation',\n",
       "       'Connecticut - Region 4', 'Connecticut - Region 3 (T)',\n",
       "       'Massachusetts - Region 4', 'Connecticut - Region 1',\n",
       "       'Canada - Region 8', 'Oil Springs Indian Reservation',\n",
       "       'Canada - Region 5', 'Poospatuck Indian Reservation',\n",
       "       'Onondaga Indian Reservation',\n",
       "       'St. Regis Indian Reservation - Region 5',\n",
       "       'Pennsylvania - Region 7', 'Shinnecock Indian Reservation'],\n",
       "      dtype=object)"
      ]
     },
     "execution_count": 13,
     "metadata": {},
     "output_type": "execute_result"
    }
   ],
   "source": [
    "# 5. Check the unique values in the county column\n",
    "spills.county.unique()"
   ]
  },
  {
   "cell_type": "markdown",
   "metadata": {},
   "source": [
    "### Data selection\n",
    "\n",
    "1. Select data about petroleum spills that took place between January 1st 2023, and October 31st (including both dates), 2023. Store it in a variable named `petr_23`. The data selection should occur in a single line. You may add cells if you needed."
   ]
  },
  {
   "cell_type": "code",
   "execution_count": 16,
   "metadata": {
    "tags": []
   },
   "outputs": [
    {
     "data": {
      "text/plain": [
       "0        2001-10-10\n",
       "1        2004-08-21\n",
       "2        2004-08-21\n",
       "3        2002-08-02\n",
       "4        2003-01-20\n",
       "            ...    \n",
       "542289   1999-07-06\n",
       "542290   2003-07-28\n",
       "542291   1993-03-02\n",
       "542292   1990-01-05\n",
       "542293   2001-06-13\n",
       "Name: spill_date, Length: 542294, dtype: datetime64[ns]"
      ]
     },
     "execution_count": 16,
     "metadata": {},
     "output_type": "execute_result"
    }
   ],
   "source": [
    "# Change spill_date column from object to datetime\n",
    "spills.spill_date = pd.to_datetime(spills.spill_date)\n",
    "spills.spill_date"
   ]
  },
  {
   "cell_type": "code",
   "execution_count": 21,
   "metadata": {
    "tags": []
   },
   "outputs": [],
   "source": [
    "# select petroleum spills between 1/1/23 and 10/31/23\n",
    "petr_23 = spills[(spills.material_family == \"Petroleum\") & (spills.spill_date.isin(pd.date_range(\"2023-01-01\", \"2023-10-31\")))]"
   ]
  },
  {
   "cell_type": "markdown",
   "metadata": {},
   "source": [
    "2. Verify that `petr_23` only has data for petroleum spills "
   ]
  },
  {
   "cell_type": "code",
   "execution_count": 22,
   "metadata": {
    "tags": []
   },
   "outputs": [
    {
     "data": {
      "text/plain": [
       "array(['Petroleum'], dtype=object)"
      ]
     },
     "execution_count": 22,
     "metadata": {},
     "output_type": "execute_result"
    }
   ],
   "source": [
    "# check unique values of material_family column\n",
    "petr_23.material_family.unique()"
   ]
  },
  {
   "cell_type": "markdown",
   "metadata": {},
   "source": [
    "3. Verify that `petr_23` only has data for 2023. \n",
    "HINT: if you converted the `spill_date` column to datetime, you can use `petr_23.spill_date.dt.year.unique()`"
   ]
  },
  {
   "cell_type": "code",
   "execution_count": 24,
   "metadata": {
    "tags": []
   },
   "outputs": [
    {
     "data": {
      "text/plain": [
       "array([2023])"
      ]
     },
     "execution_count": 24,
     "metadata": {},
     "output_type": "execute_result"
    }
   ],
   "source": [
    "# check unique years in petr_23\n",
    "petr_23.spill_date.dt.year.unique()"
   ]
  },
  {
   "cell_type": "markdown",
   "metadata": {},
   "source": [
    "4. Verify that `petr_23` only has data from January to October. "
   ]
  },
  {
   "cell_type": "code",
   "execution_count": 26,
   "metadata": {
    "tags": []
   },
   "outputs": [
    {
     "data": {
      "text/plain": [
       "array([ 6,  8,  9,  7,  1,  2,  3, 10,  5,  4])"
      ]
     },
     "execution_count": 26,
     "metadata": {},
     "output_type": "execute_result"
    }
   ],
   "source": [
    "# check unique months in petr_23\n",
    "petr_23.spill_date.dt.month.unique()"
   ]
  },
  {
   "cell_type": "markdown",
   "metadata": {},
   "source": [
    "### Data aggregation\n",
    "\n",
    "Create new dataframe named `spills_per_county` with the number of petroleum spills per county from January to October 2023 (i.e. use the `petr_23` dataframe).\n",
    "\n",
    "The resulting `spills_per_county` dataframe must be as follows:\n",
    "\n",
    "- Index: integer numbers starting from 0\n",
    "- Column one: county names, column name = `county`\n",
    "- Column two: number of petroleum spills per county in 2023, column name = `n_spills`\n",
    "\n",
    "You may add cells if you needed."
   ]
  },
  {
   "cell_type": "code",
   "execution_count": 44,
   "metadata": {
    "tags": []
   },
   "outputs": [],
   "source": [
    "# your code here\n",
    "spills_per_county = petr_23.groupby('county').agg(n_spills=pd.NamedAgg(column = 'spill_number', aggfunc='count')).reset_index()"
   ]
  },
  {
   "cell_type": "markdown",
   "metadata": {},
   "source": [
    "## Prepare counties data\n",
    "\n",
    "This section refers to the `counties` geodataframe. \n",
    "Check the outputs carefully, they will give you context about the next exercises.\n",
    "\n",
    "### Exploration\n",
    "\n",
    "In the next cells:\n",
    "\n",
    "1. Check the geo-dataframe's head\n",
    "2. Simplify column names as needed\n",
    "3. Check the data types of the columns\n",
    "4. Check the geo-dataframe's CRS\n",
    "5. Plot the geo-dataframe.\n",
    "\n",
    "You can add any other cells of preliminary data exploration."
   ]
  },
  {
   "cell_type": "code",
   "execution_count": 46,
   "metadata": {
    "tags": []
   },
   "outputs": [
    {
     "data": {
      "text/html": [
       "<div>\n",
       "<style scoped>\n",
       "    .dataframe tbody tr th:only-of-type {\n",
       "        vertical-align: middle;\n",
       "    }\n",
       "\n",
       "    .dataframe tbody tr th {\n",
       "        vertical-align: top;\n",
       "    }\n",
       "\n",
       "    .dataframe thead th {\n",
       "        text-align: right;\n",
       "    }\n",
       "</style>\n",
       "<table border=\"1\" class=\"dataframe\">\n",
       "  <thead>\n",
       "    <tr style=\"text-align: right;\">\n",
       "      <th></th>\n",
       "      <th>STATEFP</th>\n",
       "      <th>COUNTYFP</th>\n",
       "      <th>COUNTYNS</th>\n",
       "      <th>GEOID</th>\n",
       "      <th>NAME</th>\n",
       "      <th>NAMELSAD</th>\n",
       "      <th>LSAD</th>\n",
       "      <th>CLASSFP</th>\n",
       "      <th>MTFCC</th>\n",
       "      <th>CSAFP</th>\n",
       "      <th>CBSAFP</th>\n",
       "      <th>METDIVFP</th>\n",
       "      <th>FUNCSTAT</th>\n",
       "      <th>ALAND</th>\n",
       "      <th>AWATER</th>\n",
       "      <th>INTPTLAT</th>\n",
       "      <th>INTPTLON</th>\n",
       "      <th>geometry</th>\n",
       "    </tr>\n",
       "  </thead>\n",
       "  <tbody>\n",
       "    <tr>\n",
       "      <th>0</th>\n",
       "      <td>31</td>\n",
       "      <td>039</td>\n",
       "      <td>00835841</td>\n",
       "      <td>31039</td>\n",
       "      <td>Cuming</td>\n",
       "      <td>Cuming County</td>\n",
       "      <td>06</td>\n",
       "      <td>H1</td>\n",
       "      <td>G4020</td>\n",
       "      <td>None</td>\n",
       "      <td>None</td>\n",
       "      <td>None</td>\n",
       "      <td>A</td>\n",
       "      <td>1477644346</td>\n",
       "      <td>10691216</td>\n",
       "      <td>+41.9158651</td>\n",
       "      <td>-096.7885168</td>\n",
       "      <td>POLYGON ((-96.55515 41.91587, -96.55515 41.914...</td>\n",
       "    </tr>\n",
       "    <tr>\n",
       "      <th>1</th>\n",
       "      <td>53</td>\n",
       "      <td>069</td>\n",
       "      <td>01513275</td>\n",
       "      <td>53069</td>\n",
       "      <td>Wahkiakum</td>\n",
       "      <td>Wahkiakum County</td>\n",
       "      <td>06</td>\n",
       "      <td>H1</td>\n",
       "      <td>G4020</td>\n",
       "      <td>None</td>\n",
       "      <td>None</td>\n",
       "      <td>None</td>\n",
       "      <td>A</td>\n",
       "      <td>680980770</td>\n",
       "      <td>61564427</td>\n",
       "      <td>+46.2946377</td>\n",
       "      <td>-123.4244583</td>\n",
       "      <td>POLYGON ((-123.72755 46.26449, -123.72755 46.2...</td>\n",
       "    </tr>\n",
       "    <tr>\n",
       "      <th>2</th>\n",
       "      <td>35</td>\n",
       "      <td>011</td>\n",
       "      <td>00933054</td>\n",
       "      <td>35011</td>\n",
       "      <td>De Baca</td>\n",
       "      <td>De Baca County</td>\n",
       "      <td>06</td>\n",
       "      <td>H1</td>\n",
       "      <td>G4020</td>\n",
       "      <td>None</td>\n",
       "      <td>None</td>\n",
       "      <td>None</td>\n",
       "      <td>A</td>\n",
       "      <td>6016818946</td>\n",
       "      <td>29090018</td>\n",
       "      <td>+34.3592729</td>\n",
       "      <td>-104.3686961</td>\n",
       "      <td>POLYGON ((-104.89337 34.08894, -104.89337 34.0...</td>\n",
       "    </tr>\n",
       "    <tr>\n",
       "      <th>3</th>\n",
       "      <td>31</td>\n",
       "      <td>109</td>\n",
       "      <td>00835876</td>\n",
       "      <td>31109</td>\n",
       "      <td>Lancaster</td>\n",
       "      <td>Lancaster County</td>\n",
       "      <td>06</td>\n",
       "      <td>H1</td>\n",
       "      <td>G4020</td>\n",
       "      <td>None</td>\n",
       "      <td>None</td>\n",
       "      <td>None</td>\n",
       "      <td>A</td>\n",
       "      <td>2169272978</td>\n",
       "      <td>22847034</td>\n",
       "      <td>+40.7835474</td>\n",
       "      <td>-096.6886584</td>\n",
       "      <td>POLYGON ((-96.68493 40.52330, -96.69219 40.523...</td>\n",
       "    </tr>\n",
       "    <tr>\n",
       "      <th>4</th>\n",
       "      <td>31</td>\n",
       "      <td>129</td>\n",
       "      <td>00835886</td>\n",
       "      <td>31129</td>\n",
       "      <td>Nuckolls</td>\n",
       "      <td>Nuckolls County</td>\n",
       "      <td>06</td>\n",
       "      <td>H1</td>\n",
       "      <td>G4020</td>\n",
       "      <td>None</td>\n",
       "      <td>None</td>\n",
       "      <td>None</td>\n",
       "      <td>A</td>\n",
       "      <td>1489645185</td>\n",
       "      <td>1718484</td>\n",
       "      <td>+40.1764918</td>\n",
       "      <td>-098.0468422</td>\n",
       "      <td>POLYGON ((-98.27370 40.11840, -98.27374 40.122...</td>\n",
       "    </tr>\n",
       "  </tbody>\n",
       "</table>\n",
       "</div>"
      ],
      "text/plain": [
       "  STATEFP COUNTYFP  COUNTYNS  GEOID       NAME          NAMELSAD LSAD CLASSFP  \\\n",
       "0      31      039  00835841  31039     Cuming     Cuming County   06      H1   \n",
       "1      53      069  01513275  53069  Wahkiakum  Wahkiakum County   06      H1   \n",
       "2      35      011  00933054  35011    De Baca    De Baca County   06      H1   \n",
       "3      31      109  00835876  31109  Lancaster  Lancaster County   06      H1   \n",
       "4      31      129  00835886  31129   Nuckolls   Nuckolls County   06      H1   \n",
       "\n",
       "   MTFCC CSAFP CBSAFP METDIVFP FUNCSTAT       ALAND    AWATER     INTPTLAT  \\\n",
       "0  G4020  None   None     None        A  1477644346  10691216  +41.9158651   \n",
       "1  G4020  None   None     None        A   680980770  61564427  +46.2946377   \n",
       "2  G4020  None   None     None        A  6016818946  29090018  +34.3592729   \n",
       "3  G4020  None   None     None        A  2169272978  22847034  +40.7835474   \n",
       "4  G4020  None   None     None        A  1489645185   1718484  +40.1764918   \n",
       "\n",
       "       INTPTLON                                           geometry  \n",
       "0  -096.7885168  POLYGON ((-96.55515 41.91587, -96.55515 41.914...  \n",
       "1  -123.4244583  POLYGON ((-123.72755 46.26449, -123.72755 46.2...  \n",
       "2  -104.3686961  POLYGON ((-104.89337 34.08894, -104.89337 34.0...  \n",
       "3  -096.6886584  POLYGON ((-96.68493 40.52330, -96.69219 40.523...  \n",
       "4  -098.0468422  POLYGON ((-98.27370 40.11840, -98.27374 40.122...  "
      ]
     },
     "execution_count": 46,
     "metadata": {},
     "output_type": "execute_result"
    }
   ],
   "source": [
    "# 1. check head\n",
    "counties.head()"
   ]
  },
  {
   "cell_type": "code",
   "execution_count": 48,
   "metadata": {
    "tags": []
   },
   "outputs": [],
   "source": [
    "# 2. simplify column names\n",
    "counties.columns = counties.columns.str.lower()"
   ]
  },
  {
   "cell_type": "code",
   "execution_count": 50,
   "metadata": {
    "tags": []
   },
   "outputs": [
    {
     "data": {
      "text/plain": [
       "statefp       object\n",
       "countyfp      object\n",
       "countyns      object\n",
       "geoid         object\n",
       "name          object\n",
       "namelsad      object\n",
       "lsad          object\n",
       "classfp       object\n",
       "mtfcc         object\n",
       "csafp         object\n",
       "cbsafp        object\n",
       "metdivfp      object\n",
       "funcstat      object\n",
       "aland          int64\n",
       "awater         int64\n",
       "intptlat      object\n",
       "intptlon      object\n",
       "geometry    geometry\n",
       "dtype: object"
      ]
     },
     "execution_count": 50,
     "metadata": {},
     "output_type": "execute_result"
    }
   ],
   "source": [
    "# 3. check column data types\n",
    "counties.dtypes"
   ]
  },
  {
   "cell_type": "code",
   "execution_count": 51,
   "metadata": {
    "tags": []
   },
   "outputs": [
    {
     "data": {
      "text/plain": [
       "<Geographic 2D CRS: EPSG:4269>\n",
       "Name: NAD83\n",
       "Axis Info [ellipsoidal]:\n",
       "- Lat[north]: Geodetic latitude (degree)\n",
       "- Lon[east]: Geodetic longitude (degree)\n",
       "Area of Use:\n",
       "- name: North America - NAD83\n",
       "- bounds: (167.65, 14.92, -47.74, 86.46)\n",
       "Datum: North American Datum 1983\n",
       "- Ellipsoid: GRS 1980\n",
       "- Prime Meridian: Greenwich"
      ]
     },
     "execution_count": 51,
     "metadata": {},
     "output_type": "execute_result"
    }
   ],
   "source": [
    "# 4. check CRS\n",
    "counties.crs"
   ]
  },
  {
   "cell_type": "code",
   "execution_count": 52,
   "metadata": {
    "tags": []
   },
   "outputs": [
    {
     "data": {
      "text/plain": [
       "<AxesSubplot:>"
      ]
     },
     "execution_count": 52,
     "metadata": {},
     "output_type": "execute_result"
    },
    {
     "data": {
      "image/png": "[encoded data removed]",
      "text/plain": [
       "<Figure size 640x480 with 1 Axes>"
      ]
     },
     "metadata": {},
     "output_type": "display_data"
    }
   ],
   "source": [
    "# 5. plot\n",
    "counties.plot()"
   ]
  },
  {
   "cell_type": "markdown",
   "metadata": {},
   "source": [
    "### Data selection\n",
    "\n",
    "Select all the counties for the state of New York in a new variable `ny_counties` and plot them. HINT: to find which counties correspond to NY, look at the metadata."
   ]
  },
  {
   "cell_type": "code",
   "execution_count": 67,
   "metadata": {
    "tags": []
   },
   "outputs": [],
   "source": [
    "# select ny counties\n",
    "ny_counties = counties[counties.statefp == '36']"
   ]
  },
  {
   "cell_type": "markdown",
   "metadata": {},
   "source": [
    "## Merging\n",
    "\n",
    "The goal of this section is to create a single dataframe with the number of spills per county and the corresponding geometries for each county.\n",
    "\n",
    "### Explore data\n",
    "\n",
    "In the next cells:\n",
    "\n",
    "1. Print the names of counties in `ny_counties`, without repetition.\n",
    "2. Print the names of counties in `spills_per_county`, without repetition. (Do you notice anything?)\n",
    "3. Use the [`numpy` function `setdiff1d()`](https://numpy.org/doc/stable/reference/generated/numpy.setdiff1d.html) to find the county names that are in `spills_per_county`, but not in `ny_counties`. HINT: pay attention to the example in the documentation.\n",
    "4. Find the county names that are in `ny_counties`, but not in `spills_per_county`.\n",
    "5. Check the number of spills in 'Tuscarora Indian Reservation'.\n"
   ]
  },
  {
   "cell_type": "code",
   "execution_count": 17,
   "metadata": {},
   "outputs": [],
   "source": [
    "# 1."
   ]
  },
  {
   "cell_type": "code",
   "execution_count": 18,
   "metadata": {},
   "outputs": [],
   "source": [
    "# 2."
   ]
  },
  {
   "cell_type": "code",
   "execution_count": 19,
   "metadata": {},
   "outputs": [],
   "source": [
    "# 3."
   ]
  },
  {
   "cell_type": "code",
   "execution_count": 20,
   "metadata": {},
   "outputs": [],
   "source": [
    "# 4."
   ]
  },
  {
   "cell_type": "code",
   "execution_count": 21,
   "metadata": {},
   "outputs": [],
   "source": [
    "# 5. \n"
   ]
  },
  {
   "cell_type": "markdown",
   "metadata": {},
   "source": [
    "### Data updates\n",
    "\n",
    "In this section we will update 'St Lawrence' to 'St. Lawrence' in `spills_per_county` data frame.\n",
    "\n",
    "In the next cells:\n",
    "1. Check the row in `spills_per_county` that has 'St Lawrence'\n",
    "2. Run the code and read the explanation in the comments\n",
    "3. Run the code and read the explanation in the comments\n",
    "4. Use the `st_lawrence_index` and `at` to update St Lawrence name in `spills_per_county` dataframe\n",
    "5. Check the update was successfull"
   ]
  },
  {
   "cell_type": "code",
   "execution_count": 22,
   "metadata": {},
   "outputs": [],
   "source": [
    "# 1. "
   ]
  },
  {
   "cell_type": "code",
   "execution_count": 25,
   "metadata": {},
   "outputs": [
    {
     "data": {
      "text/plain": [
       "Int64Index([50], dtype='int64')"
      ]
     },
     "execution_count": 25,
     "metadata": {},
     "output_type": "execute_result"
    }
   ],
   "source": [
    "# 2. we can get the index of that single row like this, to access the actual row index...\n",
    "spills_per_county[spills_per_county.county=='St Lawrence'].index"
   ]
  },
  {
   "cell_type": "code",
   "execution_count": 26,
   "metadata": {},
   "outputs": [
    {
     "data": {
      "text/plain": [
       "50"
      ]
     },
     "execution_count": 26,
     "metadata": {},
     "output_type": "execute_result"
    }
   ],
   "source": [
    "# 3. we need to select the first item in that tuple using [0]\n",
    "st_lawrence_index = spills_per_county[spills_per_county.county=='St Lawrence'].index[0]\n",
    "st_lawrence_index"
   ]
  },
  {
   "cell_type": "code",
   "execution_count": 23,
   "metadata": {},
   "outputs": [],
   "source": [
    "# 4. "
   ]
  },
  {
   "cell_type": "code",
   "execution_count": 24,
   "metadata": {},
   "outputs": [],
   "source": [
    "# 5."
   ]
  },
  {
   "cell_type": "markdown",
   "metadata": {},
   "source": [
    "### Merge\n",
    "\n",
    "In the following cells:\n",
    "1. Use this cell to make any other updates needed for making an inner join of the `spills_per_county` and `ny_counties`. \n",
    "2. Over-write `ny_counties` as the  inner join of the `spills_per_county` and `ny_counties` dataframes.\n",
    "\n",
    "From our previous exploration we know that Tuscarora Indian Reservation will not be in the join. Tuscarora Indian Reservation is located within Niagara county. \n",
    "\n",
    "3. Since the Tuscarora Indian Reservation does not appear in the `ny_counties` dataframe, add one spill to Niagara county. We will add a note about this in our final map. Add the cells you need to make this update **and** verify that the dataframe was updated."
   ]
  },
  {
   "cell_type": "code",
   "execution_count": 25,
   "metadata": {},
   "outputs": [],
   "source": [
    "# 1. \n"
   ]
  },
  {
   "cell_type": "code",
   "execution_count": 26,
   "metadata": {},
   "outputs": [],
   "source": [
    "# 2."
   ]
  },
  {
   "cell_type": "code",
   "execution_count": 27,
   "metadata": {},
   "outputs": [],
   "source": [
    "# your code here"
   ]
  },
  {
   "cell_type": "markdown",
   "metadata": {},
   "source": [
    "## Map\n",
    "Create a choropleth map of the number of petroleum spills per county in the state of New York in 2023. \n",
    "Your map should have (at least) the following updates:\n",
    "- a legend indicating the number of spills\n",
    "- an updated color map\n",
    "- a title \n",
    "- no axis\n",
    "- an annotation with the data source (New York State Department of Environmental Conservation), date of access HINT: check the graph we did for power plants, \n",
    "- an annotation indicating one spill occurred in Tuscarora Indian Reservation within Niagara county"
   ]
  },
  {
   "cell_type": "markdown",
   "metadata": {},
   "source": [
    "Tuscarora Indian Reservation in Niagara county"
   ]
  },
  {
   "cell_type": "code",
   "execution_count": 28,
   "metadata": {},
   "outputs": [],
   "source": [
    "# your code here"
   ]
  },
  {
   "cell_type": "markdown",
   "metadata": {},
   "source": [
    "## Final code\n",
    "\n",
    "Collect all the relevant code into the first blank cell of the notebook titled \"FINAL CODE\". This single cell will have the end-to-end workflow: from importing libraries and loading the data, to producing the graph. The *only* ouput of this cell should be the graph you produced in the previous exercise. For each line, add a single comment explaining what the code does."
   ]
  }
 ],
 "metadata": {
  "kernelspec": {
   "display_name": "Anaconda 3 (Base)",
   "language": "python",
   "name": "base"
  },
  "language_info": {
   "codemirror_mode": {
    "name": "ipython",
    "version": 3
   },
   "file_extension": ".py",
   "mimetype": "text/x-python",
   "name": "python",
   "nbconvert_exporter": "python",
   "pygments_lexer": "ipython3",
   "version": "3.9.13"
  },
  "vscode": {
   "interpreter": {
    "hash": "fd47fb98a7ce7f6a10c657f2a810bfb9d752313f8f3dd9c5b44bfbb724ce30e0"
   }
  }
 },
 "nbformat": 4,
 "nbformat_minor": 4
}
